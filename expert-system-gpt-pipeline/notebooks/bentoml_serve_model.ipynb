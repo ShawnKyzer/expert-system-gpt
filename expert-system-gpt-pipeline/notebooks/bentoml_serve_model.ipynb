{
 "cells": [
  {
   "cell_type": "code",
   "execution_count": null,
   "id": "caf44d3d",
   "metadata": {},
   "outputs": [],
   "source": [
    "%%file service.py\n",
    "import bentoml\n",
    "\n",
    "from bentoml.io import Text, JSON\n",
    "\n",
    "runner = bentoml.transformers.get(\"expertsystemgpt:latest\").to_runner()\n",
    "\n",
    "svc = bentoml.Service(\"expertsystemgpt_service\", runners=[runner])\n",
    "\n",
    "@svc.api(input=Text(), output=JSON())\n",
    "async def generate(input_series: str) -> list:\n",
    "    return await runner.async_run(input_series, max_new_tokens=500, top_k=50, temperature=0.0, repetition_penalty=10.0)"
   ]
  },
  {
   "cell_type": "code",
   "execution_count": null,
   "id": "19ac5203",
   "metadata": {},
   "outputs": [],
   "source": [
    "!bentoml serve service:svc --reload\n",
    "# Once the service is loaded head over to http://127.0.0.1:3000/ in order to use Swagger to run some tests"
   ]
  },
  {
   "cell_type": "code",
   "execution_count": null,
   "id": "ff190ccd",
   "metadata": {},
   "outputs": [],
   "source": [
    "# Example call to http for text generation\n",
    "import requests\n",
    "\n",
    "requests.post(\n",
    "   \"http://127.0.0.1:3000/generate\",\n",
    "   headers={\"content-type\": \"application/json\"},\n",
    "   data=\"List the steps to implement federated data governance in data mesh: 1. \",\n",
    ").text"
   ]
  }
 ],
 "metadata": {
  "kernelspec": {
   "display_name": "Kedro (expert_system_gpt_pipeline)",
   "language": "python",
   "name": "kedro_expert_system_gpt_pipeline"
  },
  "language_info": {
   "codemirror_mode": {
    "name": "ipython",
    "version": 3
   },
   "file_extension": ".py",
   "mimetype": "text/x-python",
   "name": "python",
   "nbconvert_exporter": "python",
   "pygments_lexer": "ipython3",
   "version": "3.10.8"
  }
 },
 "nbformat": 4,
 "nbformat_minor": 5
}